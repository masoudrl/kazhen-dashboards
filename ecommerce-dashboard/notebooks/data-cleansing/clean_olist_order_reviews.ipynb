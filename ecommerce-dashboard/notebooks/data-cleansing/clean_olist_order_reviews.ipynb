{
 "cells": [
  {
   "cell_type": "code",
   "execution_count": null,
   "id": "c672118e",
   "metadata": {},
   "outputs": [],
   "source": [
    "import pandas as pd\n",
    "\n",
    "file_path = '../data/raw/olist_order_reviews_dataset.csv'\n",
    "df = pd.read_csv(file_path)\n",
    "df.head()\n"
   ]
  },
  {
   "cell_type": "code",
   "execution_count": null,
   "id": "c7326807",
   "metadata": {},
   "outputs": [],
   "source": [
    "df.info()\n",
    "print(\"\\nMissing values:\\n\", df.isnull().sum())\n"
   ]
  },
  {
   "cell_type": "code",
   "execution_count": null,
   "id": "59d1992a",
   "metadata": {},
   "outputs": [],
   "source": [
    "# حذف سطرهایی که review_score یا review_id ندارند\n",
    "df = df[df['review_id'].notnull()]\n",
    "df = df[df['review_score'].notnull()]\n",
    "\n",
    "# تبدیل تاریخ‌ها به datetime\n",
    "df['review_creation_date'] = pd.to_datetime(df['review_creation_date'])\n",
    "df['review_answer_timestamp'] = pd.to_datetime(df['review_answer_timestamp'])\n",
    "\n",
    "df.reset_index(drop=True, inplace=True)\n",
    "df.head()\n"
   ]
  },
  {
   "cell_type": "code",
   "execution_count": null,
   "id": "c57101e3",
   "metadata": {},
   "outputs": [],
   "source": [
    "# ذخیره فایل تمیزشده\n",
    "clean_path = '../data/processed/olist_order_reviews_cleaned.csv'\n",
    "df.to_csv(clean_path, index=False)\n",
    "print(\"✅ فایل تمیز شده با موفقیت ذخیره شد.\")\n"
   ]
  }
 ],
 "metadata": {
  "kernelspec": {
   "display_name": "Python 3",
   "language": "python",
   "name": "python3"
  },
  "language_info": {
   "name": "python",
   "version": "3.x"
  }
 },
 "nbformat": 4,
 "nbformat_minor": 5
}