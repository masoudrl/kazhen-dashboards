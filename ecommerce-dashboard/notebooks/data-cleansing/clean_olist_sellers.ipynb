{
 "cells": [
  {
   "cell_type": "code",
   "execution_count": null,
   "id": "c78b337b",
   "metadata": {},
   "outputs": [],
   "source": [
    "import pandas as pd\n",
    "\n",
    "file_path = '../data/raw/olist_sellers_dataset.csv'\n",
    "df = pd.read_csv(file_path)\n",
    "df.head()\n"
   ]
  },
  {
   "cell_type": "code",
   "execution_count": null,
   "id": "8afb13e2",
   "metadata": {},
   "outputs": [],
   "source": [
    "df.info()\n",
    "print(\"\\nMissing values:\\n\", df.isnull().sum())\n"
   ]
  },
  {
   "cell_type": "code",
   "execution_count": null,
   "id": "3eb0d7c8",
   "metadata": {},
   "outputs": [],
   "source": [
    "# حذف فضاهای اضافی از شهر و یکسان‌سازی حروف بزرگ ایالت\n",
    "df['seller_city'] = df['seller_city'].str.strip()\n",
    "df['seller_state'] = df['seller_state'].str.upper()\n",
    "\n",
    "df.reset_index(drop=True, inplace=True)\n",
    "df.head()\n"
   ]
  },
  {
   "cell_type": "code",
   "execution_count": null,
   "id": "5b8fe04e",
   "metadata": {},
   "outputs": [],
   "source": [
    "# ذخیره فایل تمیزشده\n",
    "clean_path = '../data/processed/olist_sellers_cleaned.csv'\n",
    "df.to_csv(clean_path, index=False)\n",
    "print(\"✅ فایل تمیز شده با موفقیت ذخیره شد.\")\n"
   ]
  }
 ],
 "metadata": {
  "kernelspec": {
   "display_name": "Python 3",
   "language": "python",
   "name": "python3"
  },
  "language_info": {
   "name": "python",
   "version": "3.x"
  }
 },
 "nbformat": 4,
 "nbformat_minor": 5
}