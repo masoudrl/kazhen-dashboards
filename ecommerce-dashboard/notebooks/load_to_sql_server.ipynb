{
 "cells": [
  {
   "cell_type": "code",
   "execution_count": 1,
   "id": "0f3e1e7c",
   "metadata": {},
   "outputs": [
    {
     "name": "stdout",
     "output_type": "stream",
     "text": [
      "✅ اتصال با موفقیت برقرار شد.\n"
     ]
    }
   ],
   "source": [
    "import pandas as pd\n",
    "from sqlalchemy import create_engine\n",
    "import urllib\n",
    "\n",
    "# تنظیمات اتصال به SQL Server با Windows Authentication\n",
    "params = urllib.parse.quote_plus(\n",
    "    \"DRIVER={ODBC Driver 17 for SQL Server};\"\n",
    "    \"SERVER=DESKTOP-NI8V1U6\\\\SQL2022;\"\n",
    "    \"DATABASE=OlistStaging;\"\n",
    "    \"Trusted_Connection=yes;\"\n",
    ")\n",
    "\n",
    "engine = create_engine(\"mssql+pyodbc:///?odbc_connect=%s\" % params)\n",
    "print(\"✅ اتصال با موفقیت برقرار شد.\")"
   ]
  },
  {
   "cell_type": "code",
   "execution_count": 2,
   "id": "7ffe9822",
   "metadata": {},
   "outputs": [],
   "source": [
    "def load_csv_to_sql(file_path, table_name, engine, if_exists='append'):\n",
    "    df = pd.read_csv(file_path)\n",
    "    df.to_sql(table_name, con=engine, index=False, if_exists=if_exists)\n",
    "    print(f\"📥 داده‌ها به جدول '{table_name}' منتقل شدند. (تعداد ردیف: {len(df)})\")\n"
   ]
  },
  {
   "cell_type": "code",
   "execution_count": 7,
   "id": "6772ff49-ddb7-4bf4-8cf8-58f96c2d7d02",
   "metadata": {},
   "outputs": [
    {
     "name": "stdout",
     "output_type": "stream",
     "text": [
      "✅ تعداد رکوردهای جدید برای درج: 95121\n",
      "📥 داده‌های جدید با موفقیت وارد شدند.\n"
     ]
    }
   ],
   "source": [
    "import pandas as pd\n",
    "\n",
    "# 1. خواندن داده‌ها از فایل CSV\n",
    "df = pd.read_csv('../data/processed/olist_order_reviews_cleaned.csv')\n",
    "\n",
    "# 2. حذف رکوردهای تکراری در فایل\n",
    "df = df.drop_duplicates(subset='review_id')\n",
    "\n",
    "# 3. استخراج review_id‌های موجود در دیتابیس\n",
    "existing_ids = pd.read_sql(\"SELECT review_id FROM Reviews\", con=engine)\n",
    "\n",
    "# 4. فیلتر کردن فقط review_id‌های جدید\n",
    "new_df = df[~df['review_id'].isin(existing_ids['review_id'])]\n",
    "\n",
    "print(f\"✅ تعداد رکوردهای جدید برای درج: {len(new_df)}\")\n",
    "\n",
    "# 5. درج فقط رکوردهای جدید در جدول\n",
    "new_df.to_sql('Reviews', con=engine, index=False, if_exists='append')\n",
    "print(\"📥 داده‌های جدید با موفقیت وارد شدند.\")\n"
   ]
  },
  {
   "cell_type": "code",
   "execution_count": 9,
   "id": "c9e419e3-a024-454d-8117-451be7e21aaf",
   "metadata": {},
   "outputs": [],
   "source": [
    "def load_csv_to_sql(file_path, table_name, engine, if_exists='append', rename_columns=None):\n",
    "    df = pd.read_csv(file_path)\n",
    "\n",
    "    if rename_columns:\n",
    "        df.rename(columns=rename_columns, inplace=True)\n",
    "\n",
    "    df.to_sql(table_name, con=engine, index=False, if_exists=if_exists)\n",
    "    print(f\"📥 داده‌ها به جدول '{table_name}' منتقل شدند. (تعداد ردیف: {len(df)})\")\n"
   ]
  },
  {
   "cell_type": "code",
   "execution_count": 10,
   "id": "02f2aba1-2326-4f24-aeeb-48aec65716cb",
   "metadata": {},
   "outputs": [
    {
     "name": "stdout",
     "output_type": "stream",
     "text": [
      "📥 داده‌ها به جدول 'Products' منتقل شدند. (تعداد ردیف: 32341)\n"
     ]
    }
   ],
   "source": [
    "     load_csv_to_sql(\n",
    "    base_path + 'olist_products_cleaned.csv',\n",
    "    'Products',\n",
    "    engine,\n",
    "    rename_columns={\n",
    "        'product_name_lenght': 'product_name_length',\n",
    "        'product_description_lenght': 'product_description_length'\n",
    "    }\n",
    ")"
   ]
  },
  {
   "cell_type": "code",
   "execution_count": 11,
   "id": "67c85853-8591-45b4-b944-eea57ebf41f4",
   "metadata": {},
   "outputs": [
    {
     "name": "stdout",
     "output_type": "stream",
     "text": [
      "📥 داده‌ها به جدول 'Sellers' منتقل شدند. (تعداد ردیف: 3095)\n"
     ]
    }
   ],
   "source": [
    "load_csv_to_sql(base_path + 'olist_sellers_cleaned.csv', 'Sellers', engine)"
   ]
  },
  {
   "cell_type": "code",
   "execution_count": 12,
   "id": "94245a36-3ec0-46dd-96c5-f0ab6bb413ff",
   "metadata": {},
   "outputs": [
    {
     "name": "stdout",
     "output_type": "stream",
     "text": [
      "📥 داده‌ها به جدول 'Orders' منتقل شدند. (تعداد ردیف: 99441)\n"
     ]
    }
   ],
   "source": [
    "load_csv_to_sql(base_path + 'olist_orders_cleaned.csv', 'Orders', engine)"
   ]
  },
  {
   "cell_type": "code",
   "execution_count": null,
   "id": "c145a5b4-c5e2-4875-8f7c-51c248c86b73",
   "metadata": {},
   "outputs": [],
   "source": []
  }
 ],
 "metadata": {
  "kernelspec": {
   "display_name": "Python 3 (ipykernel)",
   "language": "python",
   "name": "python3"
  },
  "language_info": {
   "codemirror_mode": {
    "name": "ipython",
    "version": 3
   },
   "file_extension": ".py",
   "mimetype": "text/x-python",
   "name": "python",
   "nbconvert_exporter": "python",
   "pygments_lexer": "ipython3",
   "version": "3.12.1"
  }
 },
 "nbformat": 4,
 "nbformat_minor": 5
}
