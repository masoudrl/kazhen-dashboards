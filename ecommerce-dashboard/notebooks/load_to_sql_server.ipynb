{
 "cells": [
  {
   "cell_type": "code",
   "execution_count": null,
   "id": "0f3e1e7c",
   "metadata": {},
   "outputs": [],
   "source": [
    "import pandas as pd\n",
    "from sqlalchemy import create_engine\n",
    "import urllib\n",
    "\n",
    "# تنظیمات اتصال به SQL Server با Windows Authentication\n",
    "params = urllib.parse.quote_plus(\n",
    "    \"DRIVER={ODBC Driver 17 for SQL Server};\"\n",
    "    \"SERVER=DESKTOP-NI8V1U6\\\\SQL2022;\"\n",
    "    \"DATABASE=OlistStaging;\"\n",
    "    \"Trusted_Connection=yes;\"\n",
    ")\n",
    "\n",
    "engine = create_engine(\"mssql+pyodbc:///?odbc_connect=%s\" % params)\n",
    "print(\"✅ اتصال با موفقیت برقرار شد.\")\n"
   ]
  },
  {
   "cell_type": "code",
   "execution_count": null,
   "id": "7ffe9822",
   "metadata": {},
   "outputs": [],
   "source": [
    "def load_csv_to_sql(file_path, table_name, engine, if_exists='append'):\n",
    "    df = pd.read_csv(file_path)\n",
    "    df.to_sql(table_name, con=engine, index=False, if_exists=if_exists)\n",
    "    print(f\"📥 داده‌ها به جدول '{table_name}' منتقل شدند. (تعداد ردیف: {len(df)})\")\n"
   ]
  },
  {
   "cell_type": "code",
   "execution_count": null,
   "id": "547af4bf",
   "metadata": {},
   "outputs": [],
   "source": [
    "base_path = '../data/processed/'\n",
    "\n",
    "load_csv_to_sql(base_path + 'olist_customers_cleaned.csv', 'Customers', engine)\n",
    "load_csv_to_sql(base_path + 'olist_order_items_cleaned.csv', 'OrderItems', engine)\n",
    "load_csv_to_sql(base_path + 'olist_order_payments_cleaned.csv', 'Payments', engine)\n",
    "load_csv_to_sql(base_path + 'olist_order_reviews_cleaned.csv', 'Reviews', engine)\n",
    "load_csv_to_sql(base_path + 'olist_products_cleaned.csv', 'Products', engine)\n",
    "load_csv_to_sql(base_path + 'olist_sellers_cleaned.csv', 'Sellers', engine)\n"
   ]
  }
 ],
 "metadata": {
  "kernelspec": {
   "display_name": "Python 3",
   "language": "python",
   "name": "python3"
  },
  "language_info": {
   "name": "python",
   "version": "3.x"
  }
 },
 "nbformat": 4,
 "nbformat_minor": 5
}